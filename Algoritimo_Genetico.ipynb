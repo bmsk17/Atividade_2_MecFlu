{
 "cells": [
  {
   "cell_type": "markdown",
   "metadata": {},
   "source": [
    "+ Gradiente Descendente."
   ]
  },
  {
   "cell_type": "code",
   "execution_count": 40,
   "metadata": {},
   "outputs": [
    {
     "name": "stdout",
     "output_type": "stream",
     "text": [
      "Diâmetro otimizado: 14.118859241097537\n"
     ]
    }
   ],
   "source": [
    "import numpy as np\n",
    "\n",
    "# Função objetivo\n",
    "def objective_function(diameter, load, temp, gravity, atmosphere_pressure, people):\n",
    "    new_load = add_persons(people, load)    \n",
    "    air_pressure = atmosphere_pressure - ((6*new_load)/(gravity*3.14*(diameter**3)))\n",
    "    temp_air = ((temp*atmosphere_pressure)/air_pressure)\n",
    "    return air_pressure, temp_air\n",
    "\n",
    "# Derivada da função objetivo em relação ao diâmetro\n",
    "def gradient(diameter, load, temp, gravity, atmosphere_pressure, people, delta=1e-5):\n",
    "    air_pressure, temp_air = objective_function(diameter, load, temp, gravity, atmosphere_pressure, people)\n",
    "    air_pressure_delta, _ = objective_function(diameter + delta, load, temp, gravity, atmosphere_pressure, people)\n",
    "    gradient_pressure = (air_pressure_delta - air_pressure) / delta\n",
    "    return gradient_pressure\n",
    "\n",
    "# Gradiente Descendente\n",
    "def gradient_descent(diameter, load, temp, gravity, atmosphere_pressure, people, learning_rate=0.01, num_iterations=1000, tolerance=1e-5):\n",
    "    for i in range(num_iterations):\n",
    "        grad = gradient(diameter, load, temp, gravity, atmosphere_pressure, people)\n",
    "        diameter -= learning_rate * grad\n",
    "        # Verificar a convergência\n",
    "        if np.abs(grad) < tolerance:\n",
    "            break\n",
    "    return diameter\n",
    "\n",
    "# Parâmetros iniciais\n",
    "diameter = 15\n",
    "load = 2670\n",
    "temperature = 288\n",
    "temp_scale = \"Kelvin\"\n",
    "temp_scale = temp_scale.lower()\n",
    "gravity = 9.81 \n",
    "atmosphere_pressure = 1.227\n",
    "people = range(6)  # De 0 a 5\n",
    "\n",
    "# Converter temperatura para Kelvin\n",
    "converted_temp = temp_converter(temperature, temp_scale)\n",
    "\n",
    "# Encontrar o diâmetro otimizado\n",
    "optimized_diameter = gradient_descent(diameter, load, converted_temp, gravity, atmosphere_pressure, people)\n",
    "print(\"Diâmetro otimizado:\", optimized_diameter)\n"
   ]
  }
 ],
 "metadata": {
  "kernelspec": {
   "display_name": "Python 3",
   "language": "python",
   "name": "python3"
  },
  "language_info": {
   "codemirror_mode": {
    "name": "ipython",
    "version": 3
   },
   "file_extension": ".py",
   "mimetype": "text/x-python",
   "name": "python",
   "nbconvert_exporter": "python",
   "pygments_lexer": "ipython3",
   "version": "3.12.1"
  }
 },
 "nbformat": 4,
 "nbformat_minor": 2
}
